{
  "nbformat": 4,
  "nbformat_minor": 0,
  "metadata": {
    "colab": {
      "provenance": [],
      "authorship_tag": "ABX9TyPHbPEB+HLpzt+B4P9Iq2GO",
      "include_colab_link": true
    },
    "kernelspec": {
      "name": "python3",
      "display_name": "Python 3"
    },
    "language_info": {
      "name": "python"
    }
  },
  "cells": [
    {
      "cell_type": "markdown",
      "metadata": {
        "id": "view-in-github",
        "colab_type": "text"
      },
      "source": [
        "<a href=\"https://colab.research.google.com/github/Mohammadi-Nilofer/Python/blob/main/Python_Basics.ipynb\" target=\"_parent\"><img src=\"https://colab.research.google.com/assets/colab-badge.svg\" alt=\"Open In Colab\"/></a>"
      ]
    },
    {
      "cell_type": "code",
      "execution_count": null,
      "metadata": {
        "colab": {
          "base_uri": "https://localhost:8080/"
        },
        "id": "pcv6is95VEZf",
        "outputId": "f2d3b5a8-2c02-41d9-d60e-44c631f2d465"
      },
      "outputs": [
        {
          "output_type": "stream",
          "name": "stdout",
          "text": [
            "Hello World\n"
          ]
        }
      ],
      "source": [
        "#Exploring print function\n",
        "print('Hello World')"
      ]
    },
    {
      "cell_type": "code",
      "source": [
        "x=2\n",
        "y=5\n",
        "print('x+y =',x+y)"
      ],
      "metadata": {
        "colab": {
          "base_uri": "https://localhost:8080/"
        },
        "id": "oCel64G3Wdtv",
        "outputId": "57718e87-c3ea-4753-91e3-f0c47dbf47d9"
      },
      "execution_count": null,
      "outputs": [
        {
          "output_type": "stream",
          "name": "stdout",
          "text": [
            "x+y = 7\n"
          ]
        }
      ]
    },
    {
      "cell_type": "code",
      "source": [
        "x+y"
      ],
      "metadata": {
        "colab": {
          "base_uri": "https://localhost:8080/"
        },
        "id": "plPhv4BzWznd",
        "outputId": "69c0ae2d-fb0c-43ca-8a6d-d02c6d5d4264"
      },
      "execution_count": null,
      "outputs": [
        {
          "output_type": "execute_result",
          "data": {
            "text/plain": [
              "7"
            ]
          },
          "metadata": {},
          "execution_count": 4
        }
      ]
    },
    {
      "cell_type": "code",
      "source": [
        "#Exploring Print function\n",
        "age=int(input('Enter your age:'))\n",
        "print('Your age is:',age)"
      ],
      "metadata": {
        "colab": {
          "base_uri": "https://localhost:8080/"
        },
        "id": "yH-CJBGlW6Aw",
        "outputId": "40e06075-e5dc-4728-99c3-310cd323ecdf"
      },
      "execution_count": null,
      "outputs": [
        {
          "output_type": "stream",
          "name": "stdout",
          "text": [
            "Enter your age:30\n",
            "Your age is: 30\n"
          ]
        }
      ]
    },
    {
      "cell_type": "code",
      "source": [
        "X=int(input('Enter first number:'))\n",
        "Y=int(input('Enter second number:'))\n",
        "print('X+Y =',X+Y)"
      ],
      "metadata": {
        "colab": {
          "base_uri": "https://localhost:8080/"
        },
        "id": "5uDojef3XhYZ",
        "outputId": "c06fd283-e540-45d0-f121-cf34beeeffff"
      },
      "execution_count": null,
      "outputs": [
        {
          "output_type": "stream",
          "name": "stdout",
          "text": [
            "Enter first number:45\n",
            "Enter second number:20\n",
            "X+Y = 65\n"
          ]
        }
      ]
    },
    {
      "cell_type": "markdown",
      "source": [
        "#Exploring data types"
      ],
      "metadata": {
        "id": "P-oSu3e3YtXg"
      }
    },
    {
      "cell_type": "code",
      "source": [
        "X=6\n",
        "type(X)"
      ],
      "metadata": {
        "colab": {
          "base_uri": "https://localhost:8080/"
        },
        "id": "liSkCa8MXz6I",
        "outputId": "1219767c-1336-4b17-8423-f28ef26ccc8b"
      },
      "execution_count": null,
      "outputs": [
        {
          "output_type": "execute_result",
          "data": {
            "text/plain": [
              "int"
            ]
          },
          "metadata": {},
          "execution_count": 9
        }
      ]
    },
    {
      "cell_type": "code",
      "source": [
        "Y='Data Scientist'\n",
        "type(Y)"
      ],
      "metadata": {
        "colab": {
          "base_uri": "https://localhost:8080/"
        },
        "id": "ySwS_2SPYCUZ",
        "outputId": "9792452b-2a3c-4350-ad30-e6aa27a584bb"
      },
      "execution_count": null,
      "outputs": [
        {
          "output_type": "execute_result",
          "data": {
            "text/plain": [
              "str"
            ]
          },
          "metadata": {},
          "execution_count": 10
        }
      ]
    },
    {
      "cell_type": "code",
      "source": [
        "z=56.5\n",
        "type(z)"
      ],
      "metadata": {
        "colab": {
          "base_uri": "https://localhost:8080/"
        },
        "id": "dukC5QP1YQxQ",
        "outputId": "851fc76c-5809-49a8-a7c4-63661b8a40b8"
      },
      "execution_count": null,
      "outputs": [
        {
          "output_type": "execute_result",
          "data": {
            "text/plain": [
              "float"
            ]
          },
          "metadata": {},
          "execution_count": 12
        }
      ]
    },
    {
      "cell_type": "code",
      "source": [
        "#Converting data types\n",
        "int(7.0+8)"
      ],
      "metadata": {
        "colab": {
          "base_uri": "https://localhost:8080/"
        },
        "id": "zBrKFVScYVrx",
        "outputId": "62677bf4-de13-4e67-8d3e-ece635df13fe"
      },
      "execution_count": null,
      "outputs": [
        {
          "output_type": "execute_result",
          "data": {
            "text/plain": [
              "15"
            ]
          },
          "metadata": {},
          "execution_count": 13
        }
      ]
    },
    {
      "cell_type": "code",
      "source": [
        "p=str(int(7.0+8))\n",
        "print(p)\n",
        "type(p)\n"
      ],
      "metadata": {
        "colab": {
          "base_uri": "https://localhost:8080/"
        },
        "id": "9ouQK8KbY3Ud",
        "outputId": "9817a024-921f-4ad4-8e02-19e507aad139"
      },
      "execution_count": null,
      "outputs": [
        {
          "output_type": "stream",
          "name": "stdout",
          "text": [
            "15\n"
          ]
        },
        {
          "output_type": "execute_result",
          "data": {
            "text/plain": [
              "str"
            ]
          },
          "metadata": {},
          "execution_count": 16
        }
      ]
    },
    {
      "cell_type": "code",
      "source": [
        "#Concatenation of strings\n",
        "\n",
        "str1='Data'\n",
        "str2='Scientist'\n",
        "print(str1+' '+str2)"
      ],
      "metadata": {
        "colab": {
          "base_uri": "https://localhost:8080/"
        },
        "id": "ZrjI5dnJY-es",
        "outputId": "cb4ee68c-b029-4005-ef3c-978a3c142d53"
      },
      "execution_count": null,
      "outputs": [
        {
          "output_type": "stream",
          "name": "stdout",
          "text": [
            "Data Scientist\n"
          ]
        }
      ]
    },
    {
      "cell_type": "code",
      "source": [
        "Str='ArtificialIntelligence'"
      ],
      "metadata": {
        "id": "caHcBwyIZVub"
      },
      "execution_count": null,
      "outputs": []
    },
    {
      "cell_type": "code",
      "source": [
        "#Slicing the string\n",
        "\n",
        "Str[2]   # 3rd letter"
      ],
      "metadata": {
        "colab": {
          "base_uri": "https://localhost:8080/",
          "height": 35
        },
        "id": "lAIDbavGZrNo",
        "outputId": "18ec3c76-2cbc-43f0-d4c7-a73da9e43e9b"
      },
      "execution_count": null,
      "outputs": [
        {
          "output_type": "execute_result",
          "data": {
            "text/plain": [
              "'t'"
            ],
            "application/vnd.google.colaboratory.intrinsic+json": {
              "type": "string"
            }
          },
          "metadata": {},
          "execution_count": 20
        }
      ]
    },
    {
      "cell_type": "code",
      "source": [
        "Str[-1]    #last letter"
      ],
      "metadata": {
        "colab": {
          "base_uri": "https://localhost:8080/",
          "height": 35
        },
        "id": "36NuHmkJZxOG",
        "outputId": "43049026-cd74-49c9-a5a5-85da1e407069"
      },
      "execution_count": null,
      "outputs": [
        {
          "output_type": "execute_result",
          "data": {
            "text/plain": [
              "'e'"
            ],
            "application/vnd.google.colaboratory.intrinsic+json": {
              "type": "string"
            }
          },
          "metadata": {},
          "execution_count": 21
        }
      ]
    },
    {
      "cell_type": "code",
      "source": [
        "Str[5]  #6th letter"
      ],
      "metadata": {
        "colab": {
          "base_uri": "https://localhost:8080/",
          "height": 35
        },
        "id": "85R8FCToZ8vG",
        "outputId": "1b5f7d5f-3d1b-45d5-f1e3-7b8cac616109"
      },
      "execution_count": null,
      "outputs": [
        {
          "output_type": "execute_result",
          "data": {
            "text/plain": [
              "'i'"
            ],
            "application/vnd.google.colaboratory.intrinsic+json": {
              "type": "string"
            }
          },
          "metadata": {},
          "execution_count": 22
        }
      ]
    },
    {
      "cell_type": "markdown",
      "source": [
        "#List Operations"
      ],
      "metadata": {
        "id": "IRxx4NKHaVex"
      }
    },
    {
      "cell_type": "code",
      "source": [
        "#Creating a list\n",
        "list1=['python','C++','C','Java','HTML']\n",
        "list1"
      ],
      "metadata": {
        "colab": {
          "base_uri": "https://localhost:8080/"
        },
        "id": "hhOZZ0-zaFUD",
        "outputId": "a38fd7d7-f3f2-440c-8359-21c4bc471a69"
      },
      "execution_count": null,
      "outputs": [
        {
          "output_type": "execute_result",
          "data": {
            "text/plain": [
              "['python', 'C++', 'C', 'Java', 'HTML']"
            ]
          },
          "metadata": {},
          "execution_count": 24
        }
      ]
    },
    {
      "cell_type": "code",
      "source": [
        "#Indexing\n",
        "list1[1]"
      ],
      "metadata": {
        "colab": {
          "base_uri": "https://localhost:8080/",
          "height": 35
        },
        "id": "FcUZaNQDafv5",
        "outputId": "caefc937-7f21-4ddf-89d9-f83f5d2a57f2"
      },
      "execution_count": null,
      "outputs": [
        {
          "output_type": "execute_result",
          "data": {
            "text/plain": [
              "'C++'"
            ],
            "application/vnd.google.colaboratory.intrinsic+json": {
              "type": "string"
            }
          },
          "metadata": {},
          "execution_count": 26
        }
      ]
    },
    {
      "cell_type": "code",
      "source": [
        "#Negative Indexing\n",
        "list1[-2]"
      ],
      "metadata": {
        "colab": {
          "base_uri": "https://localhost:8080/",
          "height": 35
        },
        "id": "c82NvI_3a3N3",
        "outputId": "3519c08e-4122-4762-ce82-532baa369b8d"
      },
      "execution_count": null,
      "outputs": [
        {
          "output_type": "execute_result",
          "data": {
            "text/plain": [
              "'Java'"
            ],
            "application/vnd.google.colaboratory.intrinsic+json": {
              "type": "string"
            }
          },
          "metadata": {},
          "execution_count": 28
        }
      ]
    },
    {
      "cell_type": "code",
      "source": [
        "#Slicing of list\n",
        "list1[1:4]"
      ],
      "metadata": {
        "colab": {
          "base_uri": "https://localhost:8080/"
        },
        "id": "hzEfKeuQa7Xb",
        "outputId": "0a1c9c8c-6d25-4128-82f9-c8102fe80be5"
      },
      "execution_count": null,
      "outputs": [
        {
          "output_type": "execute_result",
          "data": {
            "text/plain": [
              "['C++', 'C', 'Java']"
            ]
          },
          "metadata": {},
          "execution_count": 29
        }
      ]
    },
    {
      "cell_type": "code",
      "source": [
        "list1[:]"
      ],
      "metadata": {
        "colab": {
          "base_uri": "https://localhost:8080/"
        },
        "id": "3KU9LNA7bT2e",
        "outputId": "38cd01bc-6d2c-4f60-acc9-2a328c6d39e5"
      },
      "execution_count": null,
      "outputs": [
        {
          "output_type": "execute_result",
          "data": {
            "text/plain": [
              "['python', 'C++', 'C', 'Java', 'HTML']"
            ]
          },
          "metadata": {},
          "execution_count": 30
        }
      ]
    },
    {
      "cell_type": "code",
      "source": [
        "list1[1:]"
      ],
      "metadata": {
        "colab": {
          "base_uri": "https://localhost:8080/"
        },
        "id": "hkNxtehtbW3o",
        "outputId": "4f0b4786-539c-49af-ed4c-20cfbdd3e573"
      },
      "execution_count": null,
      "outputs": [
        {
          "output_type": "execute_result",
          "data": {
            "text/plain": [
              "['C++', 'C', 'Java', 'HTML']"
            ]
          },
          "metadata": {},
          "execution_count": 33
        }
      ]
    },
    {
      "cell_type": "code",
      "source": [
        "#Print elements from reverse order\n",
        "list1[::-1]"
      ],
      "metadata": {
        "colab": {
          "base_uri": "https://localhost:8080/"
        },
        "id": "tOtHWovDbdUu",
        "outputId": "7552357b-ebc3-4e7d-a508-fe83ee2eac40"
      },
      "execution_count": null,
      "outputs": [
        {
          "output_type": "execute_result",
          "data": {
            "text/plain": [
              "['HTML', 'Java', 'C', 'C++', 'python']"
            ]
          },
          "metadata": {},
          "execution_count": 39
        }
      ]
    },
    {
      "cell_type": "code",
      "source": [
        "#Changing item of list\n",
        "\n",
        "list1[1]='R'\n",
        "list1\n"
      ],
      "metadata": {
        "colab": {
          "base_uri": "https://localhost:8080/"
        },
        "id": "0R0CZmakbuDW",
        "outputId": "68c0bd77-31db-4a43-f539-fe12c6a5466f"
      },
      "execution_count": null,
      "outputs": [
        {
          "output_type": "execute_result",
          "data": {
            "text/plain": [
              "['python', 'R', 'C', 'Java', 'HTML']"
            ]
          },
          "metadata": {},
          "execution_count": 40
        }
      ]
    },
    {
      "cell_type": "code",
      "source": [
        "#List methods\n",
        "\n",
        "#append\n",
        "\n",
        "list2=['Statistics','ML']\n",
        "\n",
        "#Add element to list\n",
        "list1.append(list2)\n",
        "list1"
      ],
      "metadata": {
        "colab": {
          "base_uri": "https://localhost:8080/"
        },
        "id": "aCxdv_pHcXAS",
        "outputId": "21beb45f-f393-4ed1-91b5-6ffa1483fd1d"
      },
      "execution_count": null,
      "outputs": [
        {
          "output_type": "execute_result",
          "data": {
            "text/plain": [
              "['python', 'R', 'C', 'Java', 'HTML', ['Statistics', 'ML']]"
            ]
          },
          "metadata": {},
          "execution_count": 41
        }
      ]
    },
    {
      "cell_type": "markdown",
      "source": [
        "**list with in a list is nested list**"
      ],
      "metadata": {
        "id": "JKXgq-a-cxrw"
      }
    },
    {
      "cell_type": "code",
      "source": [
        "#insert\n",
        "print(list1)\n",
        "list1.insert(2,'C++')\n",
        "list1"
      ],
      "metadata": {
        "colab": {
          "base_uri": "https://localhost:8080/"
        },
        "id": "xmKPodJtcspp",
        "outputId": "2fce1e55-e8b5-4541-c54c-3df5aef2535b"
      },
      "execution_count": null,
      "outputs": [
        {
          "output_type": "stream",
          "name": "stdout",
          "text": [
            "['python', 'R', 'C', 'Java', 'HTML', ['Statistics', 'ML']]\n"
          ]
        },
        {
          "output_type": "execute_result",
          "data": {
            "text/plain": [
              "['python', 'R', 'C++', 'C', 'Java', 'HTML', ['Statistics', 'ML']]"
            ]
          },
          "metadata": {},
          "execution_count": 42
        }
      ]
    },
    {
      "cell_type": "code",
      "source": [
        "#Creating lists\n",
        "list1=['python','C++','C','Java','HTML']\n",
        "list2=['Statistics','ML']\n",
        "\n",
        "#list.extend, here element ois added in the last\n",
        "\n",
        "list1.extend(list2)\n",
        "list1"
      ],
      "metadata": {
        "colab": {
          "base_uri": "https://localhost:8080/"
        },
        "id": "-0sMs6TudJT-",
        "outputId": "fef17272-7fdf-4c44-9cde-acad62e6d798"
      },
      "execution_count": null,
      "outputs": [
        {
          "output_type": "execute_result",
          "data": {
            "text/plain": [
              "['python', 'C++', 'C', 'Java', 'HTML', 'Statistics', 'ML']"
            ]
          },
          "metadata": {},
          "execution_count": 43
        }
      ]
    },
    {
      "cell_type": "code",
      "source": [
        "list1.index('ML')"
      ],
      "metadata": {
        "colab": {
          "base_uri": "https://localhost:8080/"
        },
        "id": "stLnfMAmdj09",
        "outputId": "6f9e609f-0b19-479d-f103-51ae798c9b25"
      },
      "execution_count": null,
      "outputs": [
        {
          "output_type": "execute_result",
          "data": {
            "text/plain": [
              "6"
            ]
          },
          "metadata": {},
          "execution_count": 44
        }
      ]
    },
    {
      "cell_type": "code",
      "source": [
        "#deleting list elements\n",
        "list1"
      ],
      "metadata": {
        "colab": {
          "base_uri": "https://localhost:8080/"
        },
        "id": "UEXJe5Drds1r",
        "outputId": "e367fbcc-dac7-4d98-d324-c17dceb90c74"
      },
      "execution_count": null,
      "outputs": [
        {
          "output_type": "execute_result",
          "data": {
            "text/plain": [
              "['python', 'C++', 'C', 'Java', 'HTML', 'Statistics', 'ML']"
            ]
          },
          "metadata": {},
          "execution_count": 45
        }
      ]
    },
    {
      "cell_type": "code",
      "source": [
        "del list1[5]\n",
        "list1"
      ],
      "metadata": {
        "colab": {
          "base_uri": "https://localhost:8080/"
        },
        "id": "pJ_8rZkTd5vB",
        "outputId": "b2639abc-a544-4a1f-82e3-d63d0bdca6a8"
      },
      "execution_count": null,
      "outputs": [
        {
          "output_type": "execute_result",
          "data": {
            "text/plain": [
              "['python', 'C++', 'C', 'Java', 'HTML', 'ML']"
            ]
          },
          "metadata": {},
          "execution_count": 46
        }
      ]
    },
    {
      "cell_type": "code",
      "source": [
        "#remove item\n",
        "list1.remove('ML')\n",
        "list1"
      ],
      "metadata": {
        "colab": {
          "base_uri": "https://localhost:8080/"
        },
        "id": "tHvmW261d_g6",
        "outputId": "e6eec0fd-11c9-4bda-af3f-6b971ee508eb"
      },
      "execution_count": null,
      "outputs": [
        {
          "output_type": "execute_result",
          "data": {
            "text/plain": [
              "['python', 'C++', 'Java', 'HTML']"
            ]
          },
          "metadata": {},
          "execution_count": 48
        }
      ]
    },
    {
      "cell_type": "code",
      "source": [
        "#pop item\n",
        "list3=['AI','ML','DS','genAI','DL']\n",
        "list3.pop(1)\n",
        "list3"
      ],
      "metadata": {
        "colab": {
          "base_uri": "https://localhost:8080/"
        },
        "id": "xowq2N19eDBX",
        "outputId": "c4124b69-d67d-439b-9aca-05dab55bf6a7"
      },
      "execution_count": null,
      "outputs": [
        {
          "output_type": "execute_result",
          "data": {
            "text/plain": [
              "['AI', 'DS', 'genAI', 'DL']"
            ]
          },
          "metadata": {},
          "execution_count": 51
        }
      ]
    },
    {
      "cell_type": "code",
      "source": [
        "list3.pop()  # with no argument it will give last element"
      ],
      "metadata": {
        "colab": {
          "base_uri": "https://localhost:8080/",
          "height": 35
        },
        "id": "oaOBb2PNeU45",
        "outputId": "25626240-1ea3-40ec-be47-31078c5f2fbe"
      },
      "execution_count": null,
      "outputs": [
        {
          "output_type": "execute_result",
          "data": {
            "text/plain": [
              "'DL'"
            ],
            "application/vnd.google.colaboratory.intrinsic+json": {
              "type": "string"
            }
          },
          "metadata": {},
          "execution_count": 52
        }
      ]
    },
    {
      "cell_type": "code",
      "source": [
        "list3"
      ],
      "metadata": {
        "colab": {
          "base_uri": "https://localhost:8080/"
        },
        "id": "BOwEkJD7evky",
        "outputId": "09b0d6d1-518e-4b58-9fdb-ea875ad191b9"
      },
      "execution_count": null,
      "outputs": [
        {
          "output_type": "execute_result",
          "data": {
            "text/plain": [
              "['AI', 'DS', 'genAI']"
            ]
          },
          "metadata": {},
          "execution_count": 53
        }
      ]
    },
    {
      "cell_type": "code",
      "source": [
        "#reverse\n",
        "list3.reverse()\n",
        "list3"
      ],
      "metadata": {
        "colab": {
          "base_uri": "https://localhost:8080/"
        },
        "id": "q_vq6uhde7Zl",
        "outputId": "2c5357f1-669f-43ac-be20-b2cf4e595778"
      },
      "execution_count": null,
      "outputs": [
        {
          "output_type": "execute_result",
          "data": {
            "text/plain": [
              "['genAI', 'DS', 'AI']"
            ]
          },
          "metadata": {},
          "execution_count": 54
        }
      ]
    },
    {
      "cell_type": "code",
      "source": [
        "#Iterate over list using loop\n",
        "my_list = [1, 2, 3, 4, 5]\n",
        "\n",
        "for item in my_list:\n",
        "  print(item)"
      ],
      "metadata": {
        "colab": {
          "base_uri": "https://localhost:8080/"
        },
        "id": "xnvPEqVafBUY",
        "outputId": "61de0ca7-39c8-492d-d669-7ad5e5bd1a3a"
      },
      "execution_count": null,
      "outputs": [
        {
          "output_type": "stream",
          "name": "stdout",
          "text": [
            "1\n",
            "2\n",
            "3\n",
            "4\n",
            "5\n"
          ]
        }
      ]
    },
    {
      "cell_type": "markdown",
      "source": [
        "# Tuple Operations"
      ],
      "metadata": {
        "id": "zEy2j9wAfjKz"
      }
    },
    {
      "cell_type": "markdown",
      "source": [],
      "metadata": {
        "id": "9QU-lcMTfy6q"
      }
    },
    {
      "cell_type": "code",
      "source": [
        "# We create tuples inside paranthesis (), not []\n",
        "\n",
        "# We can enter a list in a tuple\n",
        "\n",
        "# we can have tuples with same data types or mixed data types\n",
        "\n",
        "my_tuple= (13,2.289,[45,56,12,23],\"Hello World\")\n",
        "my_tuple"
      ],
      "metadata": {
        "colab": {
          "base_uri": "https://localhost:8080/"
        },
        "id": "Za_Gjeg3fbGq",
        "outputId": "26905ae5-f137-44f9-e7ac-67147e2c8dbe"
      },
      "execution_count": 1,
      "outputs": [
        {
          "output_type": "execute_result",
          "data": {
            "text/plain": [
              "(13, 2.289, [45, 56, 12, 23], 'Hello World')"
            ]
          },
          "metadata": {},
          "execution_count": 1
        }
      ]
    },
    {
      "cell_type": "code",
      "source": [
        "#Accessing tuple elements\n",
        "my_tuple[2]"
      ],
      "metadata": {
        "id": "y-Jlytp-gZkQ",
        "colab": {
          "base_uri": "https://localhost:8080/"
        },
        "outputId": "01d6880d-50b3-4c81-969f-cf0db8176fed"
      },
      "execution_count": 2,
      "outputs": [
        {
          "output_type": "execute_result",
          "data": {
            "text/plain": [
              "[45, 56, 12, 23]"
            ]
          },
          "metadata": {},
          "execution_count": 2
        }
      ]
    },
    {
      "cell_type": "code",
      "source": [
        "#Negative indexing\n",
        "my_tuple[-1]"
      ],
      "metadata": {
        "colab": {
          "base_uri": "https://localhost:8080/",
          "height": 35
        },
        "id": "pB4r7MqQqOxF",
        "outputId": "89db9fef-10b8-4070-e196-306374ec8934"
      },
      "execution_count": 3,
      "outputs": [
        {
          "output_type": "execute_result",
          "data": {
            "text/plain": [
              "'Hello World'"
            ],
            "application/vnd.google.colaboratory.intrinsic+json": {
              "type": "string"
            }
          },
          "metadata": {},
          "execution_count": 3
        }
      ]
    },
    {
      "cell_type": "code",
      "source": [
        "#tuples are immutable, however, we can chenge the elements of nested mutable items\n",
        "my_tuple[2][1]=100\n",
        "my_tuple"
      ],
      "metadata": {
        "colab": {
          "base_uri": "https://localhost:8080/"
        },
        "id": "xbdkjM5PqTPs",
        "outputId": "185d2f1c-9af6-4a45-a95e-1ad7d30d240f"
      },
      "execution_count": 4,
      "outputs": [
        {
          "output_type": "execute_result",
          "data": {
            "text/plain": [
              "(13, 2.289, [45, 100, 12, 23], 'Hello World')"
            ]
          },
          "metadata": {},
          "execution_count": 4
        }
      ]
    },
    {
      "cell_type": "code",
      "source": [
        "#Tuple Methods\n",
        "\n",
        "#Count()- returns the number of times specific value occurs in a tuple\n",
        "\n",
        "tuple=(22,23,22,27,25,45,12,19,22,8,)\n",
        "tuple.count(22)"
      ],
      "metadata": {
        "colab": {
          "base_uri": "https://localhost:8080/"
        },
        "id": "YOPRlM54qtjk",
        "outputId": "accb0ba3-4e5f-4599-ae18-03b693239c2f"
      },
      "execution_count": 5,
      "outputs": [
        {
          "output_type": "execute_result",
          "data": {
            "text/plain": [
              "3"
            ]
          },
          "metadata": {},
          "execution_count": 5
        }
      ]
    },
    {
      "cell_type": "code",
      "source": [
        "#Indexing\n",
        "tuple.index(12)"
      ],
      "metadata": {
        "colab": {
          "base_uri": "https://localhost:8080/"
        },
        "id": "q9qwWBaVrLwU",
        "outputId": "1ad90c02-36a2-4c42-9c83-da1cf6e7dc1c"
      },
      "execution_count": 7,
      "outputs": [
        {
          "output_type": "execute_result",
          "data": {
            "text/plain": [
              "6"
            ]
          },
          "metadata": {},
          "execution_count": 7
        }
      ]
    },
    {
      "cell_type": "code",
      "source": [
        "#Sorted - It sorts the tuple and returns a list with elements in a sorted manner\n",
        "tuple=(22,23,22,27,25,45,12,19,22,8,)\n",
        "sorted(tuple)"
      ],
      "metadata": {
        "colab": {
          "base_uri": "https://localhost:8080/"
        },
        "id": "BOALDOFRrVOZ",
        "outputId": "a460e213-2669-490c-a0b4-c652cc242473"
      },
      "execution_count": 8,
      "outputs": [
        {
          "output_type": "execute_result",
          "data": {
            "text/plain": [
              "[8, 12, 19, 22, 22, 22, 23, 25, 27, 45]"
            ]
          },
          "metadata": {},
          "execution_count": 8
        }
      ]
    },
    {
      "cell_type": "code",
      "source": [
        "tuple_S=('mango','Banana','Orange','Apple','grapes')  #String tuple returns list sorted in alphabetical order\n",
        "sorted(tuple_S)"
      ],
      "metadata": {
        "colab": {
          "base_uri": "https://localhost:8080/"
        },
        "id": "ojO9Tlryrniw",
        "outputId": "cc51a9d6-2980-428b-8295-6907608de86d"
      },
      "execution_count": 9,
      "outputs": [
        {
          "output_type": "execute_result",
          "data": {
            "text/plain": [
              "['Apple', 'Banana', 'Orange', 'grapes', 'mango']"
            ]
          },
          "metadata": {},
          "execution_count": 9
        }
      ]
    },
    {
      "cell_type": "markdown",
      "source": [
        "# Dictionary Operations"
      ],
      "metadata": {
        "id": "p34Xp69ZzMGW"
      }
    },
    {
      "cell_type": "code",
      "source": [
        "# Creating Dictionary\n",
        "Balance={'Rohit':56489,'Akash':98754,'Sid':858654,'Sameer':986542}\n",
        "Balance"
      ],
      "metadata": {
        "colab": {
          "base_uri": "https://localhost:8080/"
        },
        "id": "aeIODPrKr642",
        "outputId": "d754b59e-5f23-48f7-927c-716d70a55caa"
      },
      "execution_count": 10,
      "outputs": [
        {
          "output_type": "execute_result",
          "data": {
            "text/plain": [
              "{'Rohit': 56489, 'Akash': 98754, 'Sid': 858654, 'Sameer': 986542}"
            ]
          },
          "metadata": {},
          "execution_count": 10
        }
      ]
    },
    {
      "cell_type": "code",
      "source": [
        "#accessing items\n",
        "Balance['Rohit']"
      ],
      "metadata": {
        "colab": {
          "base_uri": "https://localhost:8080/"
        },
        "id": "ZlaRS6sYz53K",
        "outputId": "573d89a9-8c71-45df-84f5-c913b41023a1"
      },
      "execution_count": 11,
      "outputs": [
        {
          "output_type": "execute_result",
          "data": {
            "text/plain": [
              "56489"
            ]
          },
          "metadata": {},
          "execution_count": 11
        }
      ]
    },
    {
      "cell_type": "code",
      "source": [
        "#We can use .get() method\n",
        "Balance.get('Sid')"
      ],
      "metadata": {
        "colab": {
          "base_uri": "https://localhost:8080/"
        },
        "id": "zPMGp8bj0HgI",
        "outputId": "b35f9ac0-2cb9-4076-da47-6c58a40ed20a"
      },
      "execution_count": 12,
      "outputs": [
        {
          "output_type": "execute_result",
          "data": {
            "text/plain": [
              "858654"
            ]
          },
          "metadata": {},
          "execution_count": 12
        }
      ]
    },
    {
      "cell_type": "code",
      "source": [
        "#Changing values\n",
        "Balance['Rohit']=98765\n",
        "Balance"
      ],
      "metadata": {
        "colab": {
          "base_uri": "https://localhost:8080/"
        },
        "id": "j4ThKgd50QCe",
        "outputId": "66d355ba-7128-4738-c29a-9cbf1d885ab4"
      },
      "execution_count": 13,
      "outputs": [
        {
          "output_type": "execute_result",
          "data": {
            "text/plain": [
              "{'Rohit': 98765, 'Akash': 98754, 'Sid': 858654, 'Sameer': 986542}"
            ]
          },
          "metadata": {},
          "execution_count": 13
        }
      ]
    },
    {
      "cell_type": "code",
      "source": [
        "#To get the length of the dictionary\n",
        "len(Balance)"
      ],
      "metadata": {
        "colab": {
          "base_uri": "https://localhost:8080/"
        },
        "id": "FIHTF_YJ0Z6h",
        "outputId": "da8d5336-a6d2-421f-fb1e-7f9237ed5f85"
      },
      "execution_count": 14,
      "outputs": [
        {
          "output_type": "execute_result",
          "data": {
            "text/plain": [
              "4"
            ]
          },
          "metadata": {},
          "execution_count": 14
        }
      ]
    },
    {
      "cell_type": "code",
      "source": [
        "#Adding items\n",
        "Balance['poja']=675146"
      ],
      "metadata": {
        "id": "9aiLpeh50itU"
      },
      "execution_count": 15,
      "outputs": []
    },
    {
      "cell_type": "code",
      "source": [
        "Balance"
      ],
      "metadata": {
        "colab": {
          "base_uri": "https://localhost:8080/"
        },
        "id": "s7u1CpQM0xLQ",
        "outputId": "9b24fb9d-e5a4-4820-dc7c-42592bd59dc7"
      },
      "execution_count": 16,
      "outputs": [
        {
          "output_type": "execute_result",
          "data": {
            "text/plain": [
              "{'Rohit': 98765,\n",
              " 'Akash': 98754,\n",
              " 'Sid': 858654,\n",
              " 'Sameer': 986542,\n",
              " 'poja': 675146}"
            ]
          },
          "metadata": {},
          "execution_count": 16
        }
      ]
    },
    {
      "cell_type": "code",
      "source": [
        "#Dictionary methods\n",
        "\n",
        "#pop() method -> remove key from Dictionary\n",
        "Balance.pop('Rohit')\n"
      ],
      "metadata": {
        "colab": {
          "base_uri": "https://localhost:8080/"
        },
        "id": "Jh9xenfz0yQd",
        "outputId": "431d4f26-d46e-407a-b5f1-d9cf2af9eb0e"
      },
      "execution_count": 17,
      "outputs": [
        {
          "output_type": "execute_result",
          "data": {
            "text/plain": [
              "98765"
            ]
          },
          "metadata": {},
          "execution_count": 17
        }
      ]
    },
    {
      "cell_type": "code",
      "source": [
        "Balance"
      ],
      "metadata": {
        "colab": {
          "base_uri": "https://localhost:8080/"
        },
        "id": "y1xDBG0B1C6k",
        "outputId": "37607196-9734-4cc4-faf2-50f036c66f55"
      },
      "execution_count": 18,
      "outputs": [
        {
          "output_type": "execute_result",
          "data": {
            "text/plain": [
              "{'Akash': 98754, 'Sid': 858654, 'Sameer': 986542, 'poja': 675146}"
            ]
          },
          "metadata": {},
          "execution_count": 18
        }
      ]
    },
    {
      "cell_type": "code",
      "source": [
        "#pop item with out argument pops out last item\n",
        "Balance.popitem()"
      ],
      "metadata": {
        "colab": {
          "base_uri": "https://localhost:8080/"
        },
        "id": "7S1_lo9i1Fty",
        "outputId": "581b85dd-bf5c-4327-9448-60ef9146cfd1"
      },
      "execution_count": 19,
      "outputs": [
        {
          "output_type": "execute_result",
          "data": {
            "text/plain": [
              "('poja', 675146)"
            ]
          },
          "metadata": {},
          "execution_count": 19
        }
      ]
    },
    {
      "cell_type": "code",
      "source": [
        "Balance"
      ],
      "metadata": {
        "colab": {
          "base_uri": "https://localhost:8080/"
        },
        "id": "eFgSzmo21URl",
        "outputId": "81cdb389-20f0-406c-c18a-4a4f488aa24f"
      },
      "execution_count": 20,
      "outputs": [
        {
          "output_type": "execute_result",
          "data": {
            "text/plain": [
              "{'Akash': 98754, 'Sid': 858654, 'Sameer': 986542}"
            ]
          },
          "metadata": {},
          "execution_count": 20
        }
      ]
    },
    {
      "cell_type": "code",
      "source": [
        "#delete item\n",
        "del Balance['Akash']"
      ],
      "metadata": {
        "id": "nXfcKKTH1TMO"
      },
      "execution_count": 21,
      "outputs": []
    },
    {
      "cell_type": "code",
      "source": [
        "Balance"
      ],
      "metadata": {
        "colab": {
          "base_uri": "https://localhost:8080/"
        },
        "id": "Ve6ZpKsj1lAC",
        "outputId": "d315ae41-d353-47ed-cd1e-66430f74e717"
      },
      "execution_count": 22,
      "outputs": [
        {
          "output_type": "execute_result",
          "data": {
            "text/plain": [
              "{'Sid': 858654, 'Sameer': 986542}"
            ]
          },
          "metadata": {},
          "execution_count": 22
        }
      ]
    },
    {
      "cell_type": "code",
      "source": [
        "#clear -> empties the library\n",
        "Balance.clear()\n",
        "Balance"
      ],
      "metadata": {
        "colab": {
          "base_uri": "https://localhost:8080/"
        },
        "id": "bAMKvxfe1l6t",
        "outputId": "1e656104-bf58-4359-e926-9fc2f82a5d3f"
      },
      "execution_count": 23,
      "outputs": [
        {
          "output_type": "execute_result",
          "data": {
            "text/plain": [
              "{}"
            ]
          },
          "metadata": {},
          "execution_count": 23
        }
      ]
    },
    {
      "cell_type": "code",
      "source": [
        "#Sort dictionary\n",
        "#creating dictionary\n",
        "Fruits={'Kiwi':54,'Strawberry':25,'Banana':20,'Grapes':46}\n",
        "sorted(Fruits)"
      ],
      "metadata": {
        "colab": {
          "base_uri": "https://localhost:8080/"
        },
        "id": "N_P1N3bR1uX5",
        "outputId": "ea7bfc88-88ec-43c0-a347-fa3aaf33fe41"
      },
      "execution_count": 24,
      "outputs": [
        {
          "output_type": "execute_result",
          "data": {
            "text/plain": [
              "['Banana', 'Grapes', 'Kiwi', 'Strawberry']"
            ]
          },
          "metadata": {},
          "execution_count": 24
        }
      ]
    },
    {
      "cell_type": "code",
      "source": [
        "#update method\n",
        "Fruits.update({'Apple':35})\n",
        "Fruits"
      ],
      "metadata": {
        "colab": {
          "base_uri": "https://localhost:8080/"
        },
        "id": "YEnMaOV32PXy",
        "outputId": "e7033185-26a3-4ed3-fe23-f84f2c33a168"
      },
      "execution_count": 25,
      "outputs": [
        {
          "output_type": "execute_result",
          "data": {
            "text/plain": [
              "{'Kiwi': 54, 'Strawberry': 25, 'Banana': 20, 'Grapes': 46, 'Apple': 35}"
            ]
          },
          "metadata": {},
          "execution_count": 25
        }
      ]
    },
    {
      "cell_type": "markdown",
      "source": [
        "# Set Operations"
      ],
      "metadata": {
        "id": "Qpk1FcdU2kTr"
      }
    },
    {
      "cell_type": "code",
      "source": [
        "# Creating two sets\n",
        "set1 = {1, 2, 3, 4, 5}\n",
        "set2 = {3, 4, 5, 6, 7}\n",
        "\n",
        "print(\"Set 1:\", set1)\n",
        "print(\"Set 2:\", set2)"
      ],
      "metadata": {
        "colab": {
          "base_uri": "https://localhost:8080/"
        },
        "id": "vl2xkTaB2i8Q",
        "outputId": "31ac4af0-5d42-46ba-9dc7-588cda6ba054"
      },
      "execution_count": 26,
      "outputs": [
        {
          "output_type": "stream",
          "name": "stdout",
          "text": [
            "Set 1: {1, 2, 3, 4, 5}\n",
            "Set 2: {3, 4, 5, 6, 7}\n"
          ]
        }
      ]
    },
    {
      "cell_type": "code",
      "source": [
        "# Union of sets (all elements from both sets)\n",
        "union_set = set1 | set2  # or set1.union(set2)\n",
        "\n",
        "print(\"Union:\", union_set)"
      ],
      "metadata": {
        "colab": {
          "base_uri": "https://localhost:8080/"
        },
        "id": "sT6b1_ie22vJ",
        "outputId": "9adeed49-0375-4c34-fb13-bdf9d362e080"
      },
      "execution_count": 27,
      "outputs": [
        {
          "output_type": "stream",
          "name": "stdout",
          "text": [
            "Union: {1, 2, 3, 4, 5, 6, 7}\n"
          ]
        }
      ]
    },
    {
      "cell_type": "code",
      "source": [
        "# Intersection of sets (common elements)\n",
        "intersection_set = set1 & set2  # or set1.intersection(set2)\n",
        "\n",
        "print(\"Intersection:\", intersection_set)"
      ],
      "metadata": {
        "colab": {
          "base_uri": "https://localhost:8080/"
        },
        "id": "qW_PlXrx2-ka",
        "outputId": "e3bc7562-ebf4-4682-d32b-399ea9d1a4e5"
      },
      "execution_count": 28,
      "outputs": [
        {
          "output_type": "stream",
          "name": "stdout",
          "text": [
            "Intersection: {3, 4, 5}\n"
          ]
        }
      ]
    },
    {
      "cell_type": "code",
      "source": [
        "# Difference of sets (elements in set1 but not in set2)\n",
        "difference_set = set1 - set2  # or set1.difference(set2)\n",
        "\n",
        "print(\"Difference (set1 - set2):\", difference_set)"
      ],
      "metadata": {
        "colab": {
          "base_uri": "https://localhost:8080/"
        },
        "id": "tpQKuJA43EOm",
        "outputId": "dd08c3fd-d9ce-4974-ec67-5afb02d6e768"
      },
      "execution_count": 29,
      "outputs": [
        {
          "output_type": "stream",
          "name": "stdout",
          "text": [
            "Difference (set1 - set2): {1, 2}\n"
          ]
        }
      ]
    },
    {
      "cell_type": "code",
      "source": [
        "#add element\n",
        "set1.add(10)\n",
        "print(set1)\n",
        "\n",
        "#remove element\n",
        "set2.remove(6)\n",
        "print(set2)\n",
        "\n",
        "#discard-> if element is not present it will not give error\n",
        "set1.discard(20)\n",
        "print(set1)"
      ],
      "metadata": {
        "colab": {
          "base_uri": "https://localhost:8080/"
        },
        "id": "vW26r0Jc3Myn",
        "outputId": "f10711c6-8068-46c6-873f-4346b4467571"
      },
      "execution_count": 30,
      "outputs": [
        {
          "output_type": "stream",
          "name": "stdout",
          "text": [
            "{1, 2, 3, 4, 5, 10}\n",
            "{3, 4, 5, 7}\n",
            "{1, 2, 3, 4, 5, 10}\n"
          ]
        }
      ]
    },
    {
      "cell_type": "markdown",
      "source": [
        "If-else statement\n"
      ],
      "metadata": {
        "id": "B-oY8rPh4KOe"
      }
    },
    {
      "cell_type": "code",
      "source": [
        "# Get user input for age\n",
        "age = int(input(\"Enter your age: \"))\n",
        "\n",
        "# Check if the user is eligible to vote\n",
        "if age >= 18:\n",
        "  print(\"You are eligible to vote.\")\n",
        "else:\n",
        "  print(\"You are not eligible to vote yet.\")"
      ],
      "metadata": {
        "colab": {
          "base_uri": "https://localhost:8080/"
        },
        "id": "5ysQ5Tlp3TXb",
        "outputId": "e99c5a15-b026-44e2-c038-7d50c97bbfe0"
      },
      "execution_count": 31,
      "outputs": [
        {
          "output_type": "stream",
          "name": "stdout",
          "text": [
            "Enter your age: 32\n",
            "You are eligible to vote.\n"
          ]
        }
      ]
    },
    {
      "cell_type": "code",
      "source": [
        "#Nested if else statement\n",
        "# Get user input for score\n",
        "score = int(input(\"Enter your exam score: \"))\n",
        "\n",
        "# Determine the grade based on the score\n",
        "if score >= 90:\n",
        "  grade = \"A\"\n",
        "else:\n",
        "  if score >= 80:\n",
        "    grade = \"B\"\n",
        "  else:\n",
        "    if score >= 70:\n",
        "      grade = \"C\"\n",
        "    else:\n",
        "      grade = \"D\"\n",
        "\n",
        "print(\"Your grade is:\", grade)"
      ],
      "metadata": {
        "colab": {
          "base_uri": "https://localhost:8080/"
        },
        "id": "4ucdDgeF4TsM",
        "outputId": "45cdefcc-ba1b-4356-df4c-8e6fc204bcdf"
      },
      "execution_count": 32,
      "outputs": [
        {
          "output_type": "stream",
          "name": "stdout",
          "text": [
            "Enter your exam score: 81\n",
            "Your grade is: B\n"
          ]
        }
      ]
    },
    {
      "cell_type": "markdown",
      "source": [
        "**for loop**"
      ],
      "metadata": {
        "id": "b_GXsc2X5AJz"
      }
    },
    {
      "cell_type": "code",
      "source": [
        "# Iterating over a list\n",
        "my_list = [1, 2, 3, 4, 5]\n",
        "for item in my_list:\n",
        "  print(item)\n",
        "\n",
        "# Iterating over a tuple\n",
        "my_tuple = (10, 20, 30, 40, 50)\n",
        "for item in my_tuple:\n",
        "  print(item)\n",
        "\n",
        "# Iterating over a dictionary (keys)\n",
        "my_dict = {'a': 1, 'b': 2, 'c': 3}\n",
        "for key in my_dict:\n",
        "  print(key)\n",
        "\n",
        "# Iterating over a dictionary (values)\n",
        "for value in my_dict.values():\n",
        "  print(value)\n",
        "\n",
        "# Iterating over a dictionary (key-value pairs)\n",
        "for key, value in my_dict.items():\n",
        "  print(key, value)"
      ],
      "metadata": {
        "id": "iNy08TCL4fWL"
      },
      "execution_count": null,
      "outputs": []
    },
    {
      "cell_type": "markdown",
      "source": [
        "**While loop**"
      ],
      "metadata": {
        "id": "31lL7SSX5Myr"
      }
    },
    {
      "cell_type": "code",
      "source": [
        "# Print numbers from 1 to 10\n",
        "count = 1\n",
        "while count <= 10:\n",
        "  print(count)\n",
        "  count += 1"
      ],
      "metadata": {
        "colab": {
          "base_uri": "https://localhost:8080/"
        },
        "id": "pH1pc1L05MYd",
        "outputId": "83b02d7d-c3a7-43be-b441-d68f18fbc1c2"
      },
      "execution_count": 33,
      "outputs": [
        {
          "output_type": "stream",
          "name": "stdout",
          "text": [
            "1\n",
            "2\n",
            "3\n",
            "4\n",
            "5\n",
            "6\n",
            "7\n",
            "8\n",
            "9\n",
            "10\n"
          ]
        }
      ]
    },
    {
      "cell_type": "markdown",
      "source": [
        "**Break and Continue statements**"
      ],
      "metadata": {
        "id": "bk0yEkge5bbi"
      }
    },
    {
      "cell_type": "code",
      "source": [
        "# Print numbers from 1 to 10, but skip 5 and stop at 8\n",
        "for i in range(1, 11):\n",
        "  if i == 5:\n",
        "    continue  # Skip to the next iteration\n",
        "  if i == 8:\n",
        "    break  # Exit the loop\n",
        "  print(i)"
      ],
      "metadata": {
        "colab": {
          "base_uri": "https://localhost:8080/"
        },
        "id": "eHsVpqJd5MVC",
        "outputId": "54063c81-aafd-4a82-e228-176b6a62e4af"
      },
      "execution_count": 34,
      "outputs": [
        {
          "output_type": "stream",
          "name": "stdout",
          "text": [
            "1\n",
            "2\n",
            "3\n",
            "4\n",
            "6\n",
            "7\n"
          ]
        }
      ]
    },
    {
      "cell_type": "markdown",
      "source": [
        "break statement: Immediately terminates the loop and exits.\n",
        "\n",
        "continue statement: Skips the current iteration and proceeds to the next."
      ],
      "metadata": {
        "id": "BdXGMREI5tq7"
      }
    },
    {
      "cell_type": "markdown",
      "source": [
        "# Problem Solving Tasks\n",
        "\n",
        "**Write a Python program to find the largest number in a list.**"
      ],
      "metadata": {
        "id": "unE-yPAg57P6"
      }
    },
    {
      "cell_type": "code",
      "source": [
        "#Creating list\n",
        "a=[45,87,63,12,49,25,85,37,91,46,28,34]\n",
        "max(a)"
      ],
      "metadata": {
        "colab": {
          "base_uri": "https://localhost:8080/"
        },
        "id": "ZwGzXi5Z5MSU",
        "outputId": "2afb3035-cd0d-4c12-9e5a-b249d02568ca"
      },
      "execution_count": 36,
      "outputs": [
        {
          "output_type": "execute_result",
          "data": {
            "text/plain": [
              "91"
            ]
          },
          "metadata": {},
          "execution_count": 36
        }
      ]
    },
    {
      "cell_type": "markdown",
      "source": [
        "**Write a Python program to count the frequency of elements in a list.**"
      ],
      "metadata": {
        "id": "Hj2QC5Lk6w-s"
      }
    },
    {
      "cell_type": "code",
      "source": [
        "a.count(12)"
      ],
      "metadata": {
        "colab": {
          "base_uri": "https://localhost:8080/"
        },
        "id": "vmkSkHPQ5MO_",
        "outputId": "6c9b8001-0c77-42bf-96b1-1252e3533a61"
      },
      "execution_count": 40,
      "outputs": [
        {
          "output_type": "execute_result",
          "data": {
            "text/plain": [
              "1"
            ]
          },
          "metadata": {},
          "execution_count": 40
        }
      ]
    },
    {
      "cell_type": "markdown",
      "source": [
        "\n",
        "**Create a dictionary that stores student names as keys and marks as values, then find the student with the highest marks.**"
      ],
      "metadata": {
        "id": "7xEi0il38IEA"
      }
    },
    {
      "cell_type": "code",
      "source": [
        "student_marks = { \"Alice\": 85, \"Bob\": 92, \"Charlie\": 78, \"David\": 95, \"Eve\": 88 }\n",
        "\n",
        "top_student = max(student_marks, key=student_marks.get)\n",
        "\n",
        "print(\"Student with the highest marks:\", top_student)"
      ],
      "metadata": {
        "colab": {
          "base_uri": "https://localhost:8080/"
        },
        "id": "uThgsIHo8NdW",
        "outputId": "d6dd8a85-3eed-4a2e-fb93-586c76480f61"
      },
      "execution_count": 41,
      "outputs": [
        {
          "output_type": "stream",
          "name": "stdout",
          "text": [
            "Student with the highest marks: David\n"
          ]
        }
      ]
    },
    {
      "cell_type": "code",
      "source": [
        "max(student_marks,key=student_marks.get)"
      ],
      "metadata": {
        "colab": {
          "base_uri": "https://localhost:8080/",
          "height": 35
        },
        "id": "eCblzGG18NZ7",
        "outputId": "21c77069-5eef-4486-98b3-744e00bd64dc"
      },
      "execution_count": 43,
      "outputs": [
        {
          "output_type": "execute_result",
          "data": {
            "text/plain": [
              "'David'"
            ],
            "application/vnd.google.colaboratory.intrinsic+json": {
              "type": "string"
            }
          },
          "metadata": {},
          "execution_count": 43
        }
      ]
    },
    {
      "cell_type": "markdown",
      "source": [
        "** Implement a while loop to print the Fibonacci series up to a given number.**"
      ],
      "metadata": {
        "id": "7LHsj_S49n4t"
      }
    },
    {
      "cell_type": "code",
      "source": [
        "limit = 100  # Set the upper limit\n",
        "a = 0\n",
        "b = 1  # Initialize the first two Fibonacci numbers\n",
        "\n",
        "while a <= limit:\n",
        "  print(a, end=\" \")  # Print the current Fibonacci number\n",
        "  a, b = b, a + b  # Update a and b for the next Fibonacci number"
      ],
      "metadata": {
        "colab": {
          "base_uri": "https://localhost:8080/"
        },
        "id": "34X38Pc_8NWm",
        "outputId": "794f8087-0128-4ad1-da45-cad48e8aa6ff"
      },
      "execution_count": 45,
      "outputs": [
        {
          "output_type": "stream",
          "name": "stdout",
          "text": [
            "0 1 1 2 3 5 8 13 21 34 55 89 "
          ]
        }
      ]
    },
    {
      "cell_type": "markdown",
      "source": [
        "**Use a set to remove duplicate elements from a list.**"
      ],
      "metadata": {
        "id": "7wM-lkQF-Q6i"
      }
    },
    {
      "cell_type": "code",
      "source": [
        "my_list = [1, 2, 3, 2, 1, 4, 3, 2, 1, 5, 2]\n",
        "\n",
        "# Remove duplicates using a set\n",
        "unique_list = list(set(my_list))\n",
        "\n",
        "print(\"List with duplicates removed:\", unique_list)"
      ],
      "metadata": {
        "colab": {
          "base_uri": "https://localhost:8080/"
        },
        "id": "hyRQi5Aj9axh",
        "outputId": "167e5088-327f-4177-bde6-3ec3f5667861"
      },
      "execution_count": 46,
      "outputs": [
        {
          "output_type": "stream",
          "name": "stdout",
          "text": [
            "List with duplicates removed: [1, 2, 3, 4, 5]\n"
          ]
        }
      ]
    },
    {
      "cell_type": "code",
      "source": [],
      "metadata": {
        "id": "rUmRmhpR-P5v"
      },
      "execution_count": null,
      "outputs": []
    }
  ]
}